{
 "cells": [
  {
   "cell_type": "code",
   "execution_count": 1,
   "id": "51be8e6a-ed44-4bc9-9020-546689a7bb69",
   "metadata": {},
   "outputs": [],
   "source": [
    "import xarray as xr\n",
    "import numpy as np\n",
    "import matplotlib.pyplot as plt\n",
    "import pandas as pd\n",
    "\n",
    "# Function to load MESONH data and convert to DataFrame for specific latitude and longitude\n",
    "def load_mesonh_data(fileinput, lat, lon, month=7):\n",
    "    # Open the MESONH dataset with decode_times=False to avoid issues with non-standard time units\n",
    "    ds = xr.open_dataset(fileinput, decode_times=False)\n",
    "    \n",
    "    # The rest of your code for selecting data remains the same\n",
    "    abs_diff_lat = np.abs(ds['lat'].values - lat)\n",
    "    abs_diff_lon = np.abs(ds['lon'].values - lon)\n",
    "    \n",
    "    lat_idx = abs_diff_lat.argmin().item()\n",
    "    lon_idx = abs_diff_lon.argmin().item()\n",
    "\n",
    "    # Extract data at the nearest grid point\n",
    "    data_at_point = ds.isel(lat=lat_idx, lon=lon_idx)\n",
    "\n",
    "    # Convert the data to a DataFrame\n",
    "    df = data_at_point.to_dataframe().reset_index()\n",
    "\n",
    "    return df\n"
   ]
  },
  {
   "cell_type": "code",
   "execution_count": 2,
   "id": "980674b3-a96d-41de-aa34-1ea6fb5120c0",
   "metadata": {},
   "outputs": [
    {
     "name": "stdout",
     "output_type": "stream",
     "text": [
      "Requirement already satisfied: cftime in /opt/imfse/lib/python3.11/site-packages (1.6.4)\n",
      "Requirement already satisfied: numpy>1.13.3 in /opt/imfse/lib/python3.11/site-packages (from cftime) (1.26.4)\n",
      "\n",
      "\u001b[1m[\u001b[0m\u001b[34;49mnotice\u001b[0m\u001b[1;39;49m]\u001b[0m\u001b[39;49m A new release of pip is available: \u001b[0m\u001b[31;49m24.1.2\u001b[0m\u001b[39;49m -> \u001b[0m\u001b[32;49m24.2\u001b[0m\n",
      "\u001b[1m[\u001b[0m\u001b[34;49mnotice\u001b[0m\u001b[1;39;49m]\u001b[0m\u001b[39;49m To update, run: \u001b[0m\u001b[32;49mpip install --upgrade pip\u001b[0m\n",
      "Note: you may need to restart the kernel to use updated packages.\n"
     ]
    }
   ],
   "source": [
    "pip install cftime\n"
   ]
  },
  {
   "cell_type": "code",
   "execution_count": 2,
   "id": "4941e80d-f745-44dc-84ea-cd8d253e0afa",
   "metadata": {},
   "outputs": [],
   "source": [
    "# Function to load and merge multiple MESONH files\n",
    "def load_and_merge_mesonh_files(file_list, lat, lon, month=7):\n",
    "    data_frames = []\n",
    "    \n",
    "    for file in file_list:\n",
    "        df = load_mesonh_data(file, lat, lon, month)\n",
    "        data_frames.append(df)\n",
    "    \n",
    "    # Concatenate all data frames into one\n",
    "    merged_df = pd.concat(data_frames, ignore_index=True)\n",
    "    \n",
    "    return merged_df\n"
   ]
  },
  {
   "cell_type": "code",
   "execution_count": 3,
   "id": "faac51a2-5829-41bf-9d86-0c7e75cc9e00",
   "metadata": {},
   "outputs": [
    {
     "ename": "NameError",
     "evalue": "name 'merged_mesonh_data' is not defined",
     "output_type": "error",
     "traceback": [
      "\u001b[0;31m---------------------------------------------------------------------------\u001b[0m",
      "\u001b[0;31mNameError\u001b[0m                                 Traceback (most recent call last)",
      "Cell \u001b[0;32mIn[3], line 1\u001b[0m\n\u001b[0;32m----> 1\u001b[0m \u001b[43mmerged_mesonh_data\u001b[49m\u001b[38;5;241m.\u001b[39mcolumns\n",
      "\u001b[0;31mNameError\u001b[0m: name 'merged_mesonh_data' is not defined"
     ]
    }
   ],
   "source": [
    "merged_mesonh_data.columns"
   ]
  },
  {
   "cell_type": "code",
   "execution_count": null,
   "id": "f31ac391-7c0f-4286-950f-2830407ae149",
   "metadata": {},
   "outputs": [],
   "source": []
  }
 ],
 "metadata": {
  "kernelspec": {
   "display_name": "Python 3 (ipykernel)",
   "language": "python",
   "name": "python3"
  },
  "language_info": {
   "codemirror_mode": {
    "name": "ipython",
    "version": 3
   },
   "file_extension": ".py",
   "mimetype": "text/x-python",
   "name": "python",
   "nbconvert_exporter": "python",
   "pygments_lexer": "ipython3",
   "version": "3.11.2"
  }
 },
 "nbformat": 4,
 "nbformat_minor": 5
}
