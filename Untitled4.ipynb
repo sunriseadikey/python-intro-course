{
 "cells": [
  {
   "cell_type": "code",
   "execution_count": 1,
   "id": "ac021299-c9f9-4a7f-918f-1297a22adf9f",
   "metadata": {},
   "outputs": [],
   "source": [
    "import xarray as xr\n",
    "import numpy as np\n",
    "import matplotlib.pyplot as plt\n",
    "\n",
    "# Coordinates of the center of the burned area\n",
    "burned_area_lat = 41.709377863541654\n",
    "burned_area_lon = 1.892273844304144\n",
    "\n",
    "# Function to process a single file\n",
    "def process_file(file_path):\n",
    "    # Open the dataset\n",
    "    ds = xr.open_dataset(file_path)\n",
    "\n",
    "    # Calculate the nearest grid point indices\n",
    "    abs_diff_lat = np.abs(ds.latitude[:,0].values - burned_area_lat)\n",
    "    abs_diff_lon = np.abs(ds.longitude[0,:].values - burned_area_lon)\n",
    "\n",
    "    lat_idx = abs_diff_lat.argmin().item()\n",
    "    lon_idx = abs_diff_lon.argmin().item()\n",
    "\n",
    "    # Select wind speed and temperature data for July\n",
    "    july_data = ds.sel(valid_time=ds.valid_time.dt.month == 7)[['si10', 't2m']]\n",
    "    \n",
    "    # Select data at the nearest grid point\n",
    "    july_wind_speed_at_point = july_data.isel(x=lon_idx, y=lat_idx)\n",
    "    \n",
    "    # Convert to DataFrame and return\n",
    "    return july_wind_speed_at_point.to_dataframe()\n",
    "\n",
    "# Example usage:\n",
    "file_path = '/data/IMFSE/PythonCourse/CDS/CERRA/cerra-2012.nc'\n",
    "df = process_file(file_path)\n"
   ]
  },
  {
   "cell_type": "code",
   "execution_count": 2,
   "id": "70b57049-538c-45ab-b6bf-22e26c8c1650",
   "metadata": {},
   "outputs": [],
   "source": [
    "# List of file paths\n",
    "\n",
    "myallfiles = ['/data/IMFSE/PythonCourse/CDS/CERRA/cerra-2000.nc', '/data/IMFSE/PythonCourse/CDS/CERRA/cerra-2001.nc', '/data/IMFSE/PythonCourse/CDS/CERRA/cerra-2002.nc', '/data/IMFSE/PythonCourse/CDS/CERRA/cerra-2003.nc', '/data/IMFSE/PythonCourse/CDS/CERRA/cerra-2004.nc', '/data/IMFSE/PythonCourse/CDS/CERRA/cerra-2005.nc', '/data/IMFSE/PythonCourse/CDS/CERRA/cerra-2006.nc', '/data/IMFSE/PythonCourse/CDS/CERRA/cerra-2007.nc', '/data/IMFSE/PythonCourse/CDS/CERRA/cerra-2008.nc', '/data/IMFSE/PythonCourse/CDS/CERRA/cerra-2009.nc', '/data/IMFSE/PythonCourse/CDS/CERRA/cerra-2010.nc', '/data/IMFSE/PythonCourse/CDS/CERRA/cerra-2011.nc', '/data/IMFSE/PythonCourse/CDS/CERRA/cerra-2012.nc', '/data/IMFSE/PythonCourse/CDS/CERRA/cerra-2013.nc', '/data/IMFSE/PythonCourse/CDS/CERRA/cerra-2014.nc', '/data/IMFSE/PythonCourse/CDS/CERRA/cerra-2015.nc', '/data/IMFSE/PythonCourse/CDS/CERRA/cerra-2016.nc', '/data/IMFSE/PythonCourse/CDS/CERRA/cerra-2017.nc', '/data/IMFSE/PythonCourse/CDS/CERRA/cerra-2018.nc', '/data/IMFSE/PythonCourse/CDS/CERRA/cerra-2019.nc', '/data/IMFSE/PythonCourse/CDS/CERRA/cerra-2020.nc', '/data/IMFSE/PythonCourse/CDS/CERRA/cerra-2021.nc']\n",
    "\n",
    "\n",
    "# Initialize an empty list to store results\n",
    "df_all = []\n",
    "\n",
    "# Loop through each file and apply the function\n",
    "for file in myallfiles:\n",
    "    df_all.append(process_file(file))\n",
    "\n",
    "# Optionally concatenate all data into a single DataFrame\n",
    "import pandas as pd\n",
    "df_combined = pd.concat(df_all)\n"
   ]
  },
  {
   "cell_type": "code",
   "execution_count": 3,
   "id": "5fee2c88-702c-44d9-be9f-a8cab9d26f9c",
   "metadata": {
    "scrolled": true
   },
   "outputs": [
    {
     "ename": "NameError",
     "evalue": "name 'ds' is not defined",
     "output_type": "error",
     "traceback": [
      "\u001b[0;31m---------------------------------------------------------------------------\u001b[0m",
      "\u001b[0;31mNameError\u001b[0m                                 Traceback (most recent call last)",
      "Cell \u001b[0;32mIn[3], line 2\u001b[0m\n\u001b[1;32m      1\u001b[0m \u001b[38;5;66;03m# Now select data only for July using the 'valid_time' and filter for July\u001b[39;00m\n\u001b[0;32m----> 2\u001b[0m july_data \u001b[38;5;241m=\u001b[39m \u001b[43mds\u001b[49m\u001b[38;5;241m.\u001b[39msel(valid_time\u001b[38;5;241m=\u001b[39mds\u001b[38;5;241m.\u001b[39mvalid_time\u001b[38;5;241m.\u001b[39mdt\u001b[38;5;241m.\u001b[39mmonth \u001b[38;5;241m==\u001b[39m \u001b[38;5;241m7\u001b[39m)\n\u001b[1;32m      3\u001b[0m \u001b[38;5;66;03m# Extract wind speed values for July at the nearest grid point\u001b[39;00m\n\u001b[1;32m      4\u001b[0m july_wind_speed_at_point \u001b[38;5;241m=\u001b[39m july_data\u001b[38;5;241m.\u001b[39misel(x\u001b[38;5;241m=\u001b[39mlon_idx, y\u001b[38;5;241m=\u001b[39mlat_idx)\n",
      "\u001b[0;31mNameError\u001b[0m: name 'ds' is not defined"
     ]
    }
   ],
   "source": [
    "# Now select data only for July using the 'valid_time' and filter for July\n",
    "july_data = ds.sel(valid_time=ds.valid_time.dt.month == 7)\n",
    "# Extract wind speed values for July at the nearest grid point\n",
    "july_wind_speed_at_point = july_data.isel(x=lon_idx, y=lat_idx)\n",
    "# Plot July data at the nearest grid point\n",
    "july_wind_speed_at_point.si10.plot()\n",
    "plt.title(\"Wind Speed for July at Nearest Grid Point\")\n",
    "plt.show()"
   ]
  },
  {
   "cell_type": "code",
   "execution_count": null,
   "id": "0912a884-603a-4dcd-b750-0a82c6e357cf",
   "metadata": {},
   "outputs": [],
   "source": []
  }
 ],
 "metadata": {
  "kernelspec": {
   "display_name": "Python 3 (ipykernel)",
   "language": "python",
   "name": "python3"
  },
  "language_info": {
   "codemirror_mode": {
    "name": "ipython",
    "version": 3
   },
   "file_extension": ".py",
   "mimetype": "text/x-python",
   "name": "python",
   "nbconvert_exporter": "python",
   "pygments_lexer": "ipython3",
   "version": "3.11.2"
  }
 },
 "nbformat": 4,
 "nbformat_minor": 5
}
