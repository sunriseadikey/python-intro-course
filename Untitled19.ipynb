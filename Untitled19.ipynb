{
 "cells": [
  {
   "cell_type": "code",
   "execution_count": 1,
   "id": "59d4354c-942d-478e-9237-763b78bb121d",
   "metadata": {},
   "outputs": [
    {
     "ename": "NameError",
     "evalue": "name 'mesonh_data' is not defined",
     "output_type": "error",
     "traceback": [
      "\u001b[0;31m---------------------------------------------------------------------------\u001b[0m",
      "\u001b[0;31mNameError\u001b[0m                                 Traceback (most recent call last)",
      "Cell \u001b[0;32mIn[1], line 8\u001b[0m\n\u001b[1;32m      2\u001b[0m \u001b[38;5;28;01mimport\u001b[39;00m \u001b[38;5;21;01mmatplotlib\u001b[39;00m\u001b[38;5;21;01m.\u001b[39;00m\u001b[38;5;21;01mpyplot\u001b[39;00m \u001b[38;5;28;01mas\u001b[39;00m \u001b[38;5;21;01mplt\u001b[39;00m\n\u001b[1;32m      4\u001b[0m \u001b[38;5;66;03m# Assuming you have already loaded your MesoNH and CERRA datasets as DataFrames\u001b[39;00m\n\u001b[1;32m      5\u001b[0m \u001b[38;5;66;03m# Replace mesonh_data and cerra_data with your actual DataFrame variables\u001b[39;00m\n\u001b[1;32m      6\u001b[0m \n\u001b[1;32m      7\u001b[0m \u001b[38;5;66;03m# Merge MesoNH and CERRA datasets on the 'time' column (or whichever common column you have)\u001b[39;00m\n\u001b[0;32m----> 8\u001b[0m merged_data \u001b[38;5;241m=\u001b[39m pd\u001b[38;5;241m.\u001b[39mmerge(\u001b[43mmesonh_data\u001b[49m[[\u001b[38;5;124m'\u001b[39m\u001b[38;5;124mtime\u001b[39m\u001b[38;5;124m'\u001b[39m, \u001b[38;5;124m'\u001b[39m\u001b[38;5;124mwspeed\u001b[39m\u001b[38;5;124m'\u001b[39m, \u001b[38;5;124m'\u001b[39m\u001b[38;5;124mwdir\u001b[39m\u001b[38;5;124m'\u001b[39m]], \n\u001b[1;32m      9\u001b[0m                        cerra_data[[\u001b[38;5;124m'\u001b[39m\u001b[38;5;124mvalid_time\u001b[39m\u001b[38;5;124m'\u001b[39m, \u001b[38;5;124m'\u001b[39m\u001b[38;5;124msi10\u001b[39m\u001b[38;5;124m'\u001b[39m, \u001b[38;5;124m'\u001b[39m\u001b[38;5;124mwdir10\u001b[39m\u001b[38;5;124m'\u001b[39m]], \n\u001b[1;32m     10\u001b[0m                        left_on\u001b[38;5;241m=\u001b[39m\u001b[38;5;124m'\u001b[39m\u001b[38;5;124mtime\u001b[39m\u001b[38;5;124m'\u001b[39m, right_on\u001b[38;5;241m=\u001b[39m\u001b[38;5;124m'\u001b[39m\u001b[38;5;124mvalid_time\u001b[39m\u001b[38;5;124m'\u001b[39m, \n\u001b[1;32m     11\u001b[0m                        how\u001b[38;5;241m=\u001b[39m\u001b[38;5;124m'\u001b[39m\u001b[38;5;124minner\u001b[39m\u001b[38;5;124m'\u001b[39m)\n\u001b[1;32m     13\u001b[0m \u001b[38;5;66;03m# Plot histograms for wind speed (MesoNH wspeed vs. CERRA si10) and wind direction (wdir vs. wdir10)\u001b[39;00m\n\u001b[1;32m     14\u001b[0m plt\u001b[38;5;241m.\u001b[39mfigure(figsize\u001b[38;5;241m=\u001b[39m(\u001b[38;5;241m14\u001b[39m, \u001b[38;5;241m10\u001b[39m))\n",
      "\u001b[0;31mNameError\u001b[0m: name 'mesonh_data' is not defined"
     ]
    }
   ],
   "source": [
    "import pandas as pd\n",
    "import matplotlib.pyplot as plt\n",
    "\n",
    "# Assuming you have already loaded your MesoNH and CERRA datasets as DataFrames\n",
    "# Replace mesonh_data and cerra_data with your actual DataFrame variables\n",
    "\n",
    "# Merge MesoNH and CERRA datasets on the 'time' column (or whichever common column you have)\n",
    "merged_data = pd.merge(mesonh_data[['time', 'wspeed', 'wdir']], \n",
    "                       cerra_data[['valid_time', 'si10', 'wdir10']], \n",
    "                       left_on='time', right_on='valid_time', \n",
    "                       how='inner')\n",
    "\n",
    "# Plot histograms for wind speed (MesoNH wspeed vs. CERRA si10) and wind direction (wdir vs. wdir10)\n",
    "plt.figure(figsize=(14, 10))\n",
    "\n",
    "# Wind Speed Histogram\n",
    "plt.subplot(2, 2, 1)\n",
    "plt.hist(merged_data['wspeed'].dropna(), bins=30, color='b', alpha=0.6, label='MesoNH Wind Speed')\n",
    "plt.hist(merged_data['si10'].dropna(), bins=30, color='r', alpha=0.6, label='CERRA Wind Speed')\n",
    "plt.title('Wind Speed Comparison')\n",
    "plt.xlabel('Wind Speed (m/s)')\n",
    "plt.ylabel('Frequency')\n",
    "plt.legend()\n",
    "\n",
    "# Wind Direction Histogram\n",
    "plt.subplot(2, 2, 2)\n",
    "plt.hist(merged_data['wdir'].dropna(), bins=30, color='b', alpha=0.6, label='MesoNH Wind Direction')\n",
    "plt.hist(merged_data['wdir10'].dropna(), bins=30, color='r', alpha=0.6, label='CERRA Wind Direction')\n",
    "plt.title('Wind Direction Comparison')\n",
    "plt.xlabel('Wind Direction (degrees)')\n",
    "plt.ylabel('Frequency')\n",
    "plt.legend()\n",
    "\n",
    "plt.tight_layout()\n",
    "plt.show()\n"
   ]
  },
  {
   "cell_type": "code",
   "execution_count": null,
   "id": "333d20e9-7c77-44a7-a5c6-e432defe59cb",
   "metadata": {},
   "outputs": [],
   "source": []
  }
 ],
 "metadata": {
  "kernelspec": {
   "display_name": "Python 3 (ipykernel)",
   "language": "python",
   "name": "python3"
  },
  "language_info": {
   "codemirror_mode": {
    "name": "ipython",
    "version": 3
   },
   "file_extension": ".py",
   "mimetype": "text/x-python",
   "name": "python",
   "nbconvert_exporter": "python",
   "pygments_lexer": "ipython3",
   "version": "3.11.2"
  }
 },
 "nbformat": 4,
 "nbformat_minor": 5
}
